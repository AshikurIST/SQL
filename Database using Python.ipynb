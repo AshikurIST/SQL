{
 "cells": [
  {
   "cell_type": "markdown",
   "id": "4dd2760a",
   "metadata": {},
   "source": [
    "# Create database using SQLite"
   ]
  },
  {
   "cell_type": "code",
   "execution_count": 1,
   "id": "e46e973b",
   "metadata": {},
   "outputs": [],
   "source": [
    "import sqlite3"
   ]
  },
  {
   "cell_type": "code",
   "execution_count": 2,
   "id": "158afff0",
   "metadata": {},
   "outputs": [],
   "source": [
    "# Connecting to sqlite\n",
    "# connection object\n",
    "connections=sqlite3.connect('Instructor.db')"
   ]
  },
  {
   "cell_type": "code",
   "execution_count": 4,
   "id": "42c1bebb",
   "metadata": {},
   "outputs": [],
   "source": [
    "# coursor object\n",
    "\n",
    "cursor=connections.cursor()"
   ]
  },
  {
   "cell_type": "markdown",
   "id": "9a182bad",
   "metadata": {},
   "source": [
    "# Create a table in the database"
   ]
  },
  {
   "cell_type": "code",
   "execution_count": 5,
   "id": "d370779d",
   "metadata": {},
   "outputs": [
    {
     "name": "stdout",
     "output_type": "stream",
     "text": [
      "table is ready\n"
     ]
    }
   ],
   "source": [
    "table=\"\"\"create table IF NOT EXISTS Instructor(ID INTEGER PRIMARY KEY NOT NULL, F_NAME VARCHAR(30),L_NAME VARCHAR(20),\n",
    "CITY VARCHAR(20), C_CODE VARCHAR(2));\"\"\"\n",
    "\n",
    "cursor.execute(table)\n",
    "\n",
    "print('table is ready')"
   ]
  },
  {
   "cell_type": "markdown",
   "id": "2e9f2b70",
   "metadata": {},
   "source": [
    "# Insert data into the table"
   ]
  },
  {
   "cell_type": "code",
   "execution_count": 7,
   "id": "5a29dd2e",
   "metadata": {},
   "outputs": [
    {
     "data": {
      "text/plain": [
       "<sqlite3.Cursor at 0x23a32ae44c0>"
      ]
     },
     "execution_count": 7,
     "metadata": {},
     "output_type": "execute_result"
    }
   ],
   "source": [
    "cursor.execute('''insert into INSTRUCTOR values (1, 'Rav', 'Ahuja', 'TORONTO', 'CA')''')"
   ]
  },
  {
   "cell_type": "code",
   "execution_count": 8,
   "id": "f6b7e2ff",
   "metadata": {},
   "outputs": [
    {
     "data": {
      "text/plain": [
       "<sqlite3.Cursor at 0x23a32ae44c0>"
      ]
     },
     "execution_count": 8,
     "metadata": {},
     "output_type": "execute_result"
    }
   ],
   "source": [
    "cursor.execute('''insert into INSTRUCTOR values (2, 'Raul', 'Chong', 'Markham', 'CA'), (3, 'Hima', 'Vasudevan', 'Chicago', 'US')''')"
   ]
  },
  {
   "cell_type": "markdown",
   "id": "7c9038e4",
   "metadata": {},
   "source": [
    "# Retrieve data into Pandas"
   ]
  },
  {
   "cell_type": "code",
   "execution_count": null,
   "id": "35f920d3",
   "metadata": {},
   "outputs": [],
   "source": [
    "import pandas as pd\n",
    "\n",
    "#retrieve the query results into a pandas dataframe\n",
    "df=pd.read_sql_query('')"
   ]
  }
 ],
 "metadata": {
  "kernelspec": {
   "display_name": "Python 3 (ipykernel)",
   "language": "python",
   "name": "python3"
  },
  "language_info": {
   "codemirror_mode": {
    "name": "ipython",
    "version": 3
   },
   "file_extension": ".py",
   "mimetype": "text/x-python",
   "name": "python",
   "nbconvert_exporter": "python",
   "pygments_lexer": "ipython3",
   "version": "3.11.4"
  }
 },
 "nbformat": 4,
 "nbformat_minor": 5
}
